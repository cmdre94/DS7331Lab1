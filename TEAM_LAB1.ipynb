{
 "cells": [
  {
   "cell_type": "code",
   "execution_count": 107,
   "id": "a3ff7ed5",
   "metadata": {},
   "outputs": [],
   "source": [
    "#Begin the coding portion of the project, start by bringing in some useful libraries\n",
    "from __future__ import print_function\n",
    "from sklearn import metrics as mt\n",
    "from sklearn.model_selection import StratifiedShuffleSplit\n",
    "from sklearn.model_selection import cross_validate\n",
    "from sklearn.neighbors import KNeighborsClassifier\n",
    "from sklearn.metrics import accuracy_score\n",
    "from sklearn.preprocessing import StandardScaler\n",
    "from sklearn import svm\n",
    "from sklearn.naive_bayes import MultinomialNB\n",
    "from imblearn.over_sampling import SMOTE\n",
    "from ipywidgets import widgets as wd\n",
    "from pandas.plotting import scatter_matrix\n",
    "\n",
    "import pandas as pd\n",
    "import numpy as np\n",
    "import matplotlib.pyplot as plt\n",
    "import seaborn as sns\n",
    "import altair as alt\n",
    "%matplotlib inline"
   ]
  },
  {
   "cell_type": "markdown",
   "id": "fd6f7aee",
   "metadata": {},
   "source": [
    "## Business Understanding "
   ]
  },
  {
   "cell_type": "code",
   "execution_count": 2,
   "id": "baa50499",
   "metadata": {
    "scrolled": false
   },
   "outputs": [
    {
     "name": "stderr",
     "output_type": "stream",
     "text": [
      "/Applications/anaconda3/lib/python3.8/site-packages/IPython/core/interactiveshell.py:3441: DtypeWarning: Columns (7) have mixed types.Specify dtype option on import or set low_memory=False.\n",
      "  exec(code_obj, self.user_global_ns, self.user_ns)\n"
     ]
    },
    {
     "name": "stdout",
     "output_type": "stream",
     "text": [
      "<class 'pandas.core.frame.DataFrame'>\n",
      "RangeIndex: 3923290 entries, 0 to 3923289\n",
      "Data columns (total 17 columns):\n",
      " #   Column                      Dtype  \n",
      "---  ------                      -----  \n",
      " 0   Fiscal Year                 int64  \n",
      " 1   Payroll Number              float64\n",
      " 2   Agency Name                 object \n",
      " 3   Last Name                   object \n",
      " 4   First Name                  object \n",
      " 5   Mid Init                    object \n",
      " 6   Agency Start Date           object \n",
      " 7   Work Location Borough       object \n",
      " 8   Title Description           object \n",
      " 9   Leave Status as of June 30  object \n",
      " 10  Base Salary                 float64\n",
      " 11  Pay Basis                   object \n",
      " 12  Regular Hours               float64\n",
      " 13  Regular Gross Paid          float64\n",
      " 14  OT Hours                    float64\n",
      " 15  Total OT Paid               float64\n",
      " 16  Total Other Pay             float64\n",
      "dtypes: float64(7), int64(1), object(9)\n",
      "memory usage: 508.8+ MB\n"
     ]
    }
   ],
   "source": [
    "#Bring in the data\n",
    "df = pd.read_csv('/Users/dremaul/OneDrive/SMU/DS7331 COURSEWORK/Citywide_Payroll_Data__Fiscal_Year_.csv') # read in the csv file\n",
    "# pd.set_option('display.max_rows', None)\n",
    "# pd.set_option('display.max_columns', None)\n",
    "# pd.set_option('display.width', None)\n",
    "# pd.set_option('display.max_colwidth', None)\n",
    "df.info()"
   ]
  },
  {
   "cell_type": "markdown",
   "id": "f4baa9f4",
   "metadata": {},
   "source": [
    "## Data Meaning"
   ]
  },
  {
   "cell_type": "markdown",
   "id": "b53baf39",
   "metadata": {},
   "source": [
    "## Data Quality"
   ]
  },
  {
   "cell_type": "code",
   "execution_count": 3,
   "id": "c7f44f3c",
   "metadata": {},
   "outputs": [],
   "source": [
    "#Compute percentages of each columns missing data\n",
    "percent_missing = df.isnull().sum()/len(df)\n",
    "#Put percents into df \n",
    "missing_value_df = pd.DataFrame({'column_name': df.columns,\n",
    "                                 'percent_missing': percent_missing})\n",
    "#Sort it and show the results\n",
    "missing_value_df.sort_values('percent_missing', inplace=True)\n"
   ]
  },
  {
   "cell_type": "code",
   "execution_count": 4,
   "id": "daab9050",
   "metadata": {},
   "outputs": [
    {
     "data": {
      "text/html": [
       "<div>\n",
       "<style scoped>\n",
       "    .dataframe tbody tr th:only-of-type {\n",
       "        vertical-align: middle;\n",
       "    }\n",
       "\n",
       "    .dataframe tbody tr th {\n",
       "        vertical-align: top;\n",
       "    }\n",
       "\n",
       "    .dataframe thead th {\n",
       "        text-align: right;\n",
       "    }\n",
       "</style>\n",
       "<table border=\"1\" class=\"dataframe\">\n",
       "  <thead>\n",
       "    <tr style=\"text-align: right;\">\n",
       "      <th></th>\n",
       "      <th>column_name</th>\n",
       "      <th>percent_missing</th>\n",
       "    </tr>\n",
       "  </thead>\n",
       "  <tbody>\n",
       "    <tr>\n",
       "      <th>Fiscal Year</th>\n",
       "      <td>Fiscal Year</td>\n",
       "      <td>0.00000</td>\n",
       "    </tr>\n",
       "    <tr>\n",
       "      <th>OT Hours</th>\n",
       "      <td>OT Hours</td>\n",
       "      <td>0.00000</td>\n",
       "    </tr>\n",
       "    <tr>\n",
       "      <th>Regular Gross Paid</th>\n",
       "      <td>Regular Gross Paid</td>\n",
       "      <td>0.00000</td>\n",
       "    </tr>\n",
       "    <tr>\n",
       "      <th>Regular Hours</th>\n",
       "      <td>Regular Hours</td>\n",
       "      <td>0.00000</td>\n",
       "    </tr>\n",
       "    <tr>\n",
       "      <th>Pay Basis</th>\n",
       "      <td>Pay Basis</td>\n",
       "      <td>0.00000</td>\n",
       "    </tr>\n",
       "    <tr>\n",
       "      <th>Base Salary</th>\n",
       "      <td>Base Salary</td>\n",
       "      <td>0.00000</td>\n",
       "    </tr>\n",
       "    <tr>\n",
       "      <th>Leave Status as of June 30</th>\n",
       "      <td>Leave Status as of June 30</td>\n",
       "      <td>0.00000</td>\n",
       "    </tr>\n",
       "    <tr>\n",
       "      <th>Total OT Paid</th>\n",
       "      <td>Total OT Paid</td>\n",
       "      <td>0.00000</td>\n",
       "    </tr>\n",
       "    <tr>\n",
       "      <th>Total Other Pay</th>\n",
       "      <td>Total Other Pay</td>\n",
       "      <td>0.00000</td>\n",
       "    </tr>\n",
       "    <tr>\n",
       "      <th>Agency Name</th>\n",
       "      <td>Agency Name</td>\n",
       "      <td>0.00000</td>\n",
       "    </tr>\n",
       "    <tr>\n",
       "      <th>Agency Start Date</th>\n",
       "      <td>Agency Start Date</td>\n",
       "      <td>0.00002</td>\n",
       "    </tr>\n",
       "    <tr>\n",
       "      <th>Title Description</th>\n",
       "      <td>Title Description</td>\n",
       "      <td>0.00002</td>\n",
       "    </tr>\n",
       "    <tr>\n",
       "      <th>Last Name</th>\n",
       "      <td>Last Name</td>\n",
       "      <td>0.00052</td>\n",
       "    </tr>\n",
       "    <tr>\n",
       "      <th>First Name</th>\n",
       "      <td>First Name</td>\n",
       "      <td>0.00053</td>\n",
       "    </tr>\n",
       "    <tr>\n",
       "      <th>Work Location Borough</th>\n",
       "      <td>Work Location Borough</td>\n",
       "      <td>0.12903</td>\n",
       "    </tr>\n",
       "    <tr>\n",
       "      <th>Mid Init</th>\n",
       "      <td>Mid Init</td>\n",
       "      <td>0.40684</td>\n",
       "    </tr>\n",
       "    <tr>\n",
       "      <th>Payroll Number</th>\n",
       "      <td>Payroll Number</td>\n",
       "      <td>0.44489</td>\n",
       "    </tr>\n",
       "  </tbody>\n",
       "</table>\n",
       "</div>"
      ],
      "text/plain": [
       "                                           column_name  percent_missing\n",
       "Fiscal Year                                Fiscal Year          0.00000\n",
       "OT Hours                                      OT Hours          0.00000\n",
       "Regular Gross Paid                  Regular Gross Paid          0.00000\n",
       "Regular Hours                            Regular Hours          0.00000\n",
       "Pay Basis                                    Pay Basis          0.00000\n",
       "Base Salary                                Base Salary          0.00000\n",
       "Leave Status as of June 30  Leave Status as of June 30          0.00000\n",
       "Total OT Paid                            Total OT Paid          0.00000\n",
       "Total Other Pay                        Total Other Pay          0.00000\n",
       "Agency Name                                Agency Name          0.00000\n",
       "Agency Start Date                    Agency Start Date          0.00002\n",
       "Title Description                    Title Description          0.00002\n",
       "Last Name                                    Last Name          0.00052\n",
       "First Name                                  First Name          0.00053\n",
       "Work Location Borough            Work Location Borough          0.12903\n",
       "Mid Init                                      Mid Init          0.40684\n",
       "Payroll Number                          Payroll Number          0.44489"
      ]
     },
     "execution_count": 4,
     "metadata": {},
     "output_type": "execute_result"
    }
   ],
   "source": [
    "missing_value_df.round(5)"
   ]
  },
  {
   "cell_type": "code",
   "execution_count": 5,
   "id": "9b13673a",
   "metadata": {},
   "outputs": [
    {
     "name": "stdout",
     "output_type": "stream",
     "text": [
      "<class 'pandas.core.frame.DataFrame'>\n",
      "Int64Index: 3414938 entries, 0 to 3923289\n",
      "Data columns (total 15 columns):\n",
      " #   Column                      Dtype  \n",
      "---  ------                      -----  \n",
      " 0   Fiscal Year                 int64  \n",
      " 1   OT Hours                    float64\n",
      " 2   Regular Gross Paid          float64\n",
      " 3   Regular Hours               float64\n",
      " 4   Pay Basis                   object \n",
      " 5   Base Salary                 float64\n",
      " 6   Leave Status as of June 30  object \n",
      " 7   Total OT Paid               float64\n",
      " 8   Agency Name                 object \n",
      " 9   Agency Start Date           object \n",
      " 10  Title Description           object \n",
      " 11  Last Name                   object \n",
      " 12  First Name                  object \n",
      " 13  Total Other Pay             float64\n",
      " 14  Work Location Borough       object \n",
      "dtypes: float64(6), int64(1), object(8)\n",
      "memory usage: 416.9+ MB\n"
     ]
    }
   ],
   "source": [
    "# Drop the unnecessary columns\n",
    "df2 = df[[\n",
    "            'Fiscal Year',\n",
    "            'OT Hours',\n",
    "            'Regular Gross Paid',\n",
    "            'Regular Hours',\n",
    "            'Pay Basis',\n",
    "            'Base Salary',\n",
    "            'Leave Status as of June 30',\n",
    "            'Total OT Paid',\n",
    "            'Agency Name',\n",
    "            'Agency Start Date',\n",
    "            'Title Description',\n",
    "            'Last Name',\n",
    "            'First Name',\n",
    "            'Total Other Pay',\n",
    "            'Work Location Borough'\n",
    "        ]]\n",
    "\n",
    "# NAs are very few for these columns.  We will drop them.\n",
    "def dropNa(array):\n",
    "    result = df2.dropna(subset=array)\n",
    "    return result\n",
    "\n",
    "df2 = dropNa(['Agency Start Date', 'Title Description', 'Last Name', 'First Name', 'Work Location Borough'])\n",
    "\n",
    "df2 = df2.replace('BROOKLYN', 'KINGS')\n",
    "df2 = df2.replace('MANHATTAN', 'NEW YORK')\n",
    "\n",
    "df2.info()\n",
    "\n",
    "\n"
   ]
  },
  {
   "cell_type": "code",
   "execution_count": 6,
   "id": "c22cda2e",
   "metadata": {},
   "outputs": [],
   "source": [
    "#Compute percentages of each columns missing data\n",
    "percentMissingDf2 = df2.isnull().sum()/len(df2)\n",
    "#Put percents into df \n",
    "missingValueDf2 = pd.DataFrame({'column_name': df2.columns,\n",
    "                                 'percent_missing': percentMissingDf2})\n",
    "#Sort it and show the results\n",
    "missingValueDf2.sort_values('percent_missing', inplace=True)"
   ]
  },
  {
   "cell_type": "code",
   "execution_count": 7,
   "id": "89dce5a0",
   "metadata": {
    "scrolled": false
   },
   "outputs": [
    {
     "data": {
      "text/html": [
       "<div>\n",
       "<style scoped>\n",
       "    .dataframe tbody tr th:only-of-type {\n",
       "        vertical-align: middle;\n",
       "    }\n",
       "\n",
       "    .dataframe tbody tr th {\n",
       "        vertical-align: top;\n",
       "    }\n",
       "\n",
       "    .dataframe thead th {\n",
       "        text-align: right;\n",
       "    }\n",
       "</style>\n",
       "<table border=\"1\" class=\"dataframe\">\n",
       "  <thead>\n",
       "    <tr style=\"text-align: right;\">\n",
       "      <th></th>\n",
       "      <th>column_name</th>\n",
       "      <th>percent_missing</th>\n",
       "    </tr>\n",
       "  </thead>\n",
       "  <tbody>\n",
       "    <tr>\n",
       "      <th>Fiscal Year</th>\n",
       "      <td>Fiscal Year</td>\n",
       "      <td>0.0</td>\n",
       "    </tr>\n",
       "    <tr>\n",
       "      <th>OT Hours</th>\n",
       "      <td>OT Hours</td>\n",
       "      <td>0.0</td>\n",
       "    </tr>\n",
       "    <tr>\n",
       "      <th>Regular Gross Paid</th>\n",
       "      <td>Regular Gross Paid</td>\n",
       "      <td>0.0</td>\n",
       "    </tr>\n",
       "    <tr>\n",
       "      <th>Regular Hours</th>\n",
       "      <td>Regular Hours</td>\n",
       "      <td>0.0</td>\n",
       "    </tr>\n",
       "    <tr>\n",
       "      <th>Pay Basis</th>\n",
       "      <td>Pay Basis</td>\n",
       "      <td>0.0</td>\n",
       "    </tr>\n",
       "    <tr>\n",
       "      <th>Base Salary</th>\n",
       "      <td>Base Salary</td>\n",
       "      <td>0.0</td>\n",
       "    </tr>\n",
       "    <tr>\n",
       "      <th>Leave Status as of June 30</th>\n",
       "      <td>Leave Status as of June 30</td>\n",
       "      <td>0.0</td>\n",
       "    </tr>\n",
       "    <tr>\n",
       "      <th>Total OT Paid</th>\n",
       "      <td>Total OT Paid</td>\n",
       "      <td>0.0</td>\n",
       "    </tr>\n",
       "    <tr>\n",
       "      <th>Agency Name</th>\n",
       "      <td>Agency Name</td>\n",
       "      <td>0.0</td>\n",
       "    </tr>\n",
       "    <tr>\n",
       "      <th>Agency Start Date</th>\n",
       "      <td>Agency Start Date</td>\n",
       "      <td>0.0</td>\n",
       "    </tr>\n",
       "    <tr>\n",
       "      <th>Title Description</th>\n",
       "      <td>Title Description</td>\n",
       "      <td>0.0</td>\n",
       "    </tr>\n",
       "    <tr>\n",
       "      <th>Last Name</th>\n",
       "      <td>Last Name</td>\n",
       "      <td>0.0</td>\n",
       "    </tr>\n",
       "    <tr>\n",
       "      <th>First Name</th>\n",
       "      <td>First Name</td>\n",
       "      <td>0.0</td>\n",
       "    </tr>\n",
       "    <tr>\n",
       "      <th>Total Other Pay</th>\n",
       "      <td>Total Other Pay</td>\n",
       "      <td>0.0</td>\n",
       "    </tr>\n",
       "    <tr>\n",
       "      <th>Work Location Borough</th>\n",
       "      <td>Work Location Borough</td>\n",
       "      <td>0.0</td>\n",
       "    </tr>\n",
       "  </tbody>\n",
       "</table>\n",
       "</div>"
      ],
      "text/plain": [
       "                                           column_name  percent_missing\n",
       "Fiscal Year                                Fiscal Year              0.0\n",
       "OT Hours                                      OT Hours              0.0\n",
       "Regular Gross Paid                  Regular Gross Paid              0.0\n",
       "Regular Hours                            Regular Hours              0.0\n",
       "Pay Basis                                    Pay Basis              0.0\n",
       "Base Salary                                Base Salary              0.0\n",
       "Leave Status as of June 30  Leave Status as of June 30              0.0\n",
       "Total OT Paid                            Total OT Paid              0.0\n",
       "Agency Name                                Agency Name              0.0\n",
       "Agency Start Date                    Agency Start Date              0.0\n",
       "Title Description                    Title Description              0.0\n",
       "Last Name                                    Last Name              0.0\n",
       "First Name                                  First Name              0.0\n",
       "Total Other Pay                        Total Other Pay              0.0\n",
       "Work Location Borough            Work Location Borough              0.0"
      ]
     },
     "execution_count": 7,
     "metadata": {},
     "output_type": "execute_result"
    }
   ],
   "source": [
    "missingValueDf2.round(5)"
   ]
  },
  {
   "cell_type": "code",
   "execution_count": 8,
   "id": "adccd395",
   "metadata": {
    "scrolled": false
   },
   "outputs": [
    {
     "name": "stdout",
     "output_type": "stream",
     "text": [
      "<class 'pandas.core.frame.DataFrame'>\n",
      "Int64Index: 100 entries, 3273972 to 1439837\n",
      "Data columns (total 15 columns):\n",
      " #   Column                      Non-Null Count  Dtype  \n",
      "---  ------                      --------------  -----  \n",
      " 0   Fiscal Year                 100 non-null    int64  \n",
      " 1   OT Hours                    100 non-null    float64\n",
      " 2   Regular Gross Paid          100 non-null    float64\n",
      " 3   Regular Hours               100 non-null    float64\n",
      " 4   Pay Basis                   100 non-null    object \n",
      " 5   Base Salary                 100 non-null    float64\n",
      " 6   Leave Status as of June 30  100 non-null    object \n",
      " 7   Total OT Paid               100 non-null    float64\n",
      " 8   Agency Name                 100 non-null    object \n",
      " 9   Agency Start Date           100 non-null    object \n",
      " 10  Title Description           100 non-null    object \n",
      " 11  Last Name                   100 non-null    object \n",
      " 12  First Name                  100 non-null    object \n",
      " 13  Total Other Pay             100 non-null    float64\n",
      " 14  Work Location Borough       100 non-null    object \n",
      "dtypes: float64(6), int64(1), object(8)\n",
      "memory usage: 12.5+ KB\n"
     ]
    }
   ],
   "source": [
    "df2['Pay Basis'] == 'per Hour', ''\n",
    "dfSample = df2.sample(100)\n",
    "dfSample.info()"
   ]
  },
  {
   "cell_type": "markdown",
   "id": "24678157",
   "metadata": {},
   "source": [
    "## Simple Statistics"
   ]
  },
  {
   "cell_type": "code",
   "execution_count": 9,
   "id": "33621691",
   "metadata": {},
   "outputs": [
    {
     "data": {
      "text/html": [
       "<div>\n",
       "<style scoped>\n",
       "    .dataframe tbody tr th:only-of-type {\n",
       "        vertical-align: middle;\n",
       "    }\n",
       "\n",
       "    .dataframe tbody tr th {\n",
       "        vertical-align: top;\n",
       "    }\n",
       "\n",
       "    .dataframe thead th {\n",
       "        text-align: right;\n",
       "    }\n",
       "</style>\n",
       "<table border=\"1\" class=\"dataframe\">\n",
       "  <thead>\n",
       "    <tr style=\"text-align: right;\">\n",
       "      <th></th>\n",
       "      <th>Fiscal Year</th>\n",
       "      <th>OT Hours</th>\n",
       "      <th>Regular Gross Paid</th>\n",
       "      <th>Regular Hours</th>\n",
       "      <th>Pay Basis</th>\n",
       "      <th>Base Salary</th>\n",
       "      <th>Leave Status as of June 30</th>\n",
       "      <th>Total OT Paid</th>\n",
       "      <th>Agency Name</th>\n",
       "      <th>Agency Start Date</th>\n",
       "      <th>Title Description</th>\n",
       "      <th>Last Name</th>\n",
       "      <th>First Name</th>\n",
       "      <th>Total Other Pay</th>\n",
       "      <th>Work Location Borough</th>\n",
       "    </tr>\n",
       "  </thead>\n",
       "  <tbody>\n",
       "    <tr>\n",
       "      <th>0</th>\n",
       "      <td>2020</td>\n",
       "      <td>0.0</td>\n",
       "      <td>84698.21</td>\n",
       "      <td>1820.0</td>\n",
       "      <td>per Annum</td>\n",
       "      <td>86005.0</td>\n",
       "      <td>ACTIVE</td>\n",
       "      <td>0.0</td>\n",
       "      <td>OFFICE OF EMERGENCY MANAGEMENT</td>\n",
       "      <td>08/10/2015</td>\n",
       "      <td>EMERGENCY PREPAREDNESS MANAGER</td>\n",
       "      <td>BEREZIN</td>\n",
       "      <td>MIKHAIL</td>\n",
       "      <td>0.0</td>\n",
       "      <td>BROOKLYN</td>\n",
       "    </tr>\n",
       "    <tr>\n",
       "      <th>1</th>\n",
       "      <td>2020</td>\n",
       "      <td>0.0</td>\n",
       "      <td>84698.21</td>\n",
       "      <td>1820.0</td>\n",
       "      <td>per Annum</td>\n",
       "      <td>86005.0</td>\n",
       "      <td>ACTIVE</td>\n",
       "      <td>0.0</td>\n",
       "      <td>OFFICE OF EMERGENCY MANAGEMENT</td>\n",
       "      <td>09/12/2016</td>\n",
       "      <td>EMERGENCY PREPAREDNESS MANAGER</td>\n",
       "      <td>GEAGER</td>\n",
       "      <td>VERONICA</td>\n",
       "      <td>0.0</td>\n",
       "      <td>BROOKLYN</td>\n",
       "    </tr>\n",
       "    <tr>\n",
       "      <th>2</th>\n",
       "      <td>2020</td>\n",
       "      <td>0.0</td>\n",
       "      <td>84698.21</td>\n",
       "      <td>1820.0</td>\n",
       "      <td>per Annum</td>\n",
       "      <td>86005.0</td>\n",
       "      <td>ACTIVE</td>\n",
       "      <td>0.0</td>\n",
       "      <td>OFFICE OF EMERGENCY MANAGEMENT</td>\n",
       "      <td>02/22/2016</td>\n",
       "      <td>EMERGENCY PREPAREDNESS MANAGER</td>\n",
       "      <td>RAMANI</td>\n",
       "      <td>SHRADDHA</td>\n",
       "      <td>0.0</td>\n",
       "      <td>BROOKLYN</td>\n",
       "    </tr>\n",
       "    <tr>\n",
       "      <th>3</th>\n",
       "      <td>2020</td>\n",
       "      <td>0.0</td>\n",
       "      <td>84698.21</td>\n",
       "      <td>1820.0</td>\n",
       "      <td>per Annum</td>\n",
       "      <td>86005.0</td>\n",
       "      <td>ACTIVE</td>\n",
       "      <td>0.0</td>\n",
       "      <td>OFFICE OF EMERGENCY MANAGEMENT</td>\n",
       "      <td>09/16/2013</td>\n",
       "      <td>EMERGENCY PREPAREDNESS MANAGER</td>\n",
       "      <td>ROTTA</td>\n",
       "      <td>JONATHAN</td>\n",
       "      <td>0.0</td>\n",
       "      <td>BROOKLYN</td>\n",
       "    </tr>\n",
       "    <tr>\n",
       "      <th>4</th>\n",
       "      <td>2020</td>\n",
       "      <td>0.0</td>\n",
       "      <td>84698.21</td>\n",
       "      <td>1820.0</td>\n",
       "      <td>per Annum</td>\n",
       "      <td>86005.0</td>\n",
       "      <td>ACTIVE</td>\n",
       "      <td>0.0</td>\n",
       "      <td>OFFICE OF EMERGENCY MANAGEMENT</td>\n",
       "      <td>04/30/2018</td>\n",
       "      <td>EMERGENCY PREPAREDNESS MANAGER</td>\n",
       "      <td>WILSON II</td>\n",
       "      <td>ROBERT</td>\n",
       "      <td>0.0</td>\n",
       "      <td>BROOKLYN</td>\n",
       "    </tr>\n",
       "  </tbody>\n",
       "</table>\n",
       "</div>"
      ],
      "text/plain": [
       "   Fiscal Year  OT Hours  Regular Gross Paid  Regular Hours  Pay Basis  \\\n",
       "0         2020       0.0            84698.21         1820.0  per Annum   \n",
       "1         2020       0.0            84698.21         1820.0  per Annum   \n",
       "2         2020       0.0            84698.21         1820.0  per Annum   \n",
       "3         2020       0.0            84698.21         1820.0  per Annum   \n",
       "4         2020       0.0            84698.21         1820.0  per Annum   \n",
       "\n",
       "   Base Salary Leave Status as of June 30  Total OT Paid  \\\n",
       "0      86005.0                     ACTIVE            0.0   \n",
       "1      86005.0                     ACTIVE            0.0   \n",
       "2      86005.0                     ACTIVE            0.0   \n",
       "3      86005.0                     ACTIVE            0.0   \n",
       "4      86005.0                     ACTIVE            0.0   \n",
       "\n",
       "                      Agency Name Agency Start Date  \\\n",
       "0  OFFICE OF EMERGENCY MANAGEMENT        08/10/2015   \n",
       "1  OFFICE OF EMERGENCY MANAGEMENT        09/12/2016   \n",
       "2  OFFICE OF EMERGENCY MANAGEMENT        02/22/2016   \n",
       "3  OFFICE OF EMERGENCY MANAGEMENT        09/16/2013   \n",
       "4  OFFICE OF EMERGENCY MANAGEMENT        04/30/2018   \n",
       "\n",
       "                Title Description  Last Name First Name  Total Other Pay  \\\n",
       "0  EMERGENCY PREPAREDNESS MANAGER    BEREZIN    MIKHAIL              0.0   \n",
       "1  EMERGENCY PREPAREDNESS MANAGER     GEAGER   VERONICA              0.0   \n",
       "2  EMERGENCY PREPAREDNESS MANAGER     RAMANI   SHRADDHA              0.0   \n",
       "3  EMERGENCY PREPAREDNESS MANAGER      ROTTA   JONATHAN              0.0   \n",
       "4  EMERGENCY PREPAREDNESS MANAGER  WILSON II     ROBERT              0.0   \n",
       "\n",
       "  Work Location Borough  \n",
       "0              BROOKLYN  \n",
       "1              BROOKLYN  \n",
       "2              BROOKLYN  \n",
       "3              BROOKLYN  \n",
       "4              BROOKLYN  "
      ]
     },
     "execution_count": 9,
     "metadata": {},
     "output_type": "execute_result"
    }
   ],
   "source": [
    "payroll_clean = df2[['Fiscal Year', 'Agency Name', 'Agency Start Date', 'Work Location Borough',\n",
    "'Title Description', 'Leave Status as of June 30', 'Base Salary', 'Pay Basis',\n",
    "'Regular Hours', 'Regular Gross Paid', 'OT Hours', 'Total OT Paid',\n",
    "'Total Other Pay']]\n",
    "\n",
    "payroll_clean = payroll_clean.drop_duplicates()\n",
    "payroll_clean = payroll_clean.dropna()\n",
    "payroll_clean.reset_index(drop=True, inplace=True)"
   ]
  },
  {
   "cell_type": "code",
   "execution_count": 10,
   "id": "a53e5521",
   "metadata": {},
   "outputs": [
    {
     "data": {
      "text/plain": [
       "0          2020\n",
       "1          2020\n",
       "2          2020\n",
       "3          2020\n",
       "4          2020\n",
       "           ... \n",
       "3923285    2019\n",
       "3923286    2019\n",
       "3923287    2019\n",
       "3923288    2019\n",
       "3923289    2019\n",
       "Name: Fiscal Year, Length: 3414938, dtype: object"
      ]
     },
     "execution_count": 10,
     "metadata": {},
     "output_type": "execute_result"
    }
   ],
   "source": [
    "df2['Fiscal Year'].apply(str)"
   ]
  },
  {
   "cell_type": "code",
   "execution_count": 11,
   "id": "5a5e5dee",
   "metadata": {
    "hide_input": false,
    "scrolled": false
   },
   "outputs": [
    {
     "data": {
      "text/html": [
       "<div>\n",
       "<style scoped>\n",
       "    .dataframe tbody tr th:only-of-type {\n",
       "        vertical-align: middle;\n",
       "    }\n",
       "\n",
       "    .dataframe tbody tr th {\n",
       "        vertical-align: top;\n",
       "    }\n",
       "\n",
       "    .dataframe thead th {\n",
       "        text-align: right;\n",
       "    }\n",
       "</style>\n",
       "<table border=\"1\" class=\"dataframe\">\n",
       "  <thead>\n",
       "    <tr style=\"text-align: right;\">\n",
       "      <th></th>\n",
       "      <th>Base Salary</th>\n",
       "      <th>OT Hours</th>\n",
       "      <th>Regular Gross Paid</th>\n",
       "      <th>Regular Hours</th>\n",
       "      <th>Total OT Paid</th>\n",
       "      <th>Total Other Pay</th>\n",
       "    </tr>\n",
       "  </thead>\n",
       "  <tbody>\n",
       "    <tr>\n",
       "      <th>count</th>\n",
       "      <td>3414938.00</td>\n",
       "      <td>3414938.00</td>\n",
       "      <td>3414938.00</td>\n",
       "      <td>3414938.00</td>\n",
       "      <td>3414938.00</td>\n",
       "      <td>3414938.00</td>\n",
       "    </tr>\n",
       "    <tr>\n",
       "      <th>mean</th>\n",
       "      <td>43682.50</td>\n",
       "      <td>60.77</td>\n",
       "      <td>42335.76</td>\n",
       "      <td>663.86</td>\n",
       "      <td>3298.95</td>\n",
       "      <td>2544.94</td>\n",
       "    </tr>\n",
       "    <tr>\n",
       "      <th>std</th>\n",
       "      <td>42084.26</td>\n",
       "      <td>152.77</td>\n",
       "      <td>39708.30</td>\n",
       "      <td>884.07</td>\n",
       "      <td>9027.67</td>\n",
       "      <td>5655.70</td>\n",
       "    </tr>\n",
       "    <tr>\n",
       "      <th>min</th>\n",
       "      <td>0.01</td>\n",
       "      <td>-209.00</td>\n",
       "      <td>-76223.05</td>\n",
       "      <td>-1260.00</td>\n",
       "      <td>-26493.88</td>\n",
       "      <td>-281595.04</td>\n",
       "    </tr>\n",
       "    <tr>\n",
       "      <th>25%</th>\n",
       "      <td>33.18</td>\n",
       "      <td>0.00</td>\n",
       "      <td>3553.51</td>\n",
       "      <td>0.00</td>\n",
       "      <td>0.00</td>\n",
       "      <td>0.00</td>\n",
       "    </tr>\n",
       "    <tr>\n",
       "      <th>50%</th>\n",
       "      <td>42146.00</td>\n",
       "      <td>0.00</td>\n",
       "      <td>36234.91</td>\n",
       "      <td>0.00</td>\n",
       "      <td>0.00</td>\n",
       "      <td>0.25</td>\n",
       "    </tr>\n",
       "    <tr>\n",
       "      <th>75%</th>\n",
       "      <td>78026.00</td>\n",
       "      <td>1.00</td>\n",
       "      <td>74472.67</td>\n",
       "      <td>1820.00</td>\n",
       "      <td>166.05</td>\n",
       "      <td>2178.27</td>\n",
       "    </tr>\n",
       "    <tr>\n",
       "      <th>max</th>\n",
       "      <td>414707.00</td>\n",
       "      <td>3147.00</td>\n",
       "      <td>672308.86</td>\n",
       "      <td>4160.00</td>\n",
       "      <td>237389.73</td>\n",
       "      <td>650000.00</td>\n",
       "    </tr>\n",
       "  </tbody>\n",
       "</table>\n",
       "</div>"
      ],
      "text/plain": [
       "      Base Salary    OT Hours Regular Gross Paid Regular Hours Total OT Paid  \\\n",
       "count  3414938.00  3414938.00         3414938.00    3414938.00    3414938.00   \n",
       "mean     43682.50       60.77           42335.76        663.86       3298.95   \n",
       "std      42084.26      152.77           39708.30        884.07       9027.67   \n",
       "min          0.01     -209.00          -76223.05      -1260.00     -26493.88   \n",
       "25%         33.18        0.00            3553.51          0.00          0.00   \n",
       "50%      42146.00        0.00           36234.91          0.00          0.00   \n",
       "75%      78026.00        1.00           74472.67       1820.00        166.05   \n",
       "max     414707.00     3147.00          672308.86       4160.00     237389.73   \n",
       "\n",
       "      Total Other Pay  \n",
       "count      3414938.00  \n",
       "mean          2544.94  \n",
       "std           5655.70  \n",
       "min        -281595.04  \n",
       "25%              0.00  \n",
       "50%              0.25  \n",
       "75%           2178.27  \n",
       "max         650000.00  "
      ]
     },
     "execution_count": 11,
     "metadata": {},
     "output_type": "execute_result"
    }
   ],
   "source": [
    "df2Subset = df2[[\n",
    "    'Base Salary',\n",
    "    'OT Hours',\n",
    "    'Regular Gross Paid',\n",
    "    'Regular Hours',\n",
    "    'Total OT Paid',\n",
    "    'Total Other Pay'\n",
    "]]\n",
    "df2Subset.describe().apply(lambda s: s.apply('{0:.2f}'.format))"
   ]
  },
  {
   "cell_type": "markdown",
   "id": "a25745dc",
   "metadata": {},
   "source": [
    "Notice that there are negative min values for most of our columns.  We will look closer at these values to see if they can possibly be removed. Too many negative values will affect our ability to forecast salary unless we discover a valid reason for having negative values."
   ]
  },
  {
   "cell_type": "code",
   "execution_count": 106,
   "id": "d41064a0",
   "metadata": {
    "hide_input": false
   },
   "outputs": [
    {
     "data": {
      "text/html": [
       "<div>\n",
       "<style scoped>\n",
       "    .dataframe tbody tr th:only-of-type {\n",
       "        vertical-align: middle;\n",
       "    }\n",
       "\n",
       "    .dataframe tbody tr th {\n",
       "        vertical-align: top;\n",
       "    }\n",
       "\n",
       "    .dataframe thead th {\n",
       "        text-align: right;\n",
       "    }\n",
       "</style>\n",
       "<table border=\"1\" class=\"dataframe\">\n",
       "  <thead>\n",
       "    <tr style=\"text-align: right;\">\n",
       "      <th></th>\n",
       "      <th>Metric</th>\n",
       "      <th>Count</th>\n",
       "    </tr>\n",
       "  </thead>\n",
       "  <tbody>\n",
       "    <tr>\n",
       "      <th>0</th>\n",
       "      <td>OT HOurs</td>\n",
       "      <td>148</td>\n",
       "    </tr>\n",
       "    <tr>\n",
       "      <th>1</th>\n",
       "      <td>Regular Gross Paid</td>\n",
       "      <td>3563</td>\n",
       "    </tr>\n",
       "    <tr>\n",
       "      <th>2</th>\n",
       "      <td>Regular Hours</td>\n",
       "      <td>1108</td>\n",
       "    </tr>\n",
       "    <tr>\n",
       "      <th>3</th>\n",
       "      <td>Base Salary</td>\n",
       "      <td>0</td>\n",
       "    </tr>\n",
       "    <tr>\n",
       "      <th>4</th>\n",
       "      <td>Total OT Paid</td>\n",
       "      <td>1298</td>\n",
       "    </tr>\n",
       "    <tr>\n",
       "      <th>5</th>\n",
       "      <td>Total Other Pay</td>\n",
       "      <td>22853</td>\n",
       "    </tr>\n",
       "  </tbody>\n",
       "</table>\n",
       "</div>"
      ],
      "text/plain": [
       "               Metric  Count\n",
       "0            OT HOurs    148\n",
       "1  Regular Gross Paid   3563\n",
       "2       Regular Hours   1108\n",
       "3         Base Salary      0\n",
       "4       Total OT Paid   1298\n",
       "5     Total Other Pay  22853"
      ]
     },
     "execution_count": 106,
     "metadata": {},
     "output_type": "execute_result"
    }
   ],
   "source": [
    "# df2Negative = pd.DataFrame({\n",
    "#     'OT Hours': df2[(df2['OT Hours'] < 0)]['OT Hours'].count(),\n",
    "#     'Regular Gross Paid': df2[(df2['Regular Gross Paid'] < 0)]['Regular Gross Paid'].count(),\n",
    "#     'Regular Hours': df2[(df2['Regular Hours'] < 0)]['Regular Hours'].count(),\n",
    "#     'Base Salary': df2[(df2['Base Salary'] < 0)]['Base Salary'].count(),\n",
    "#     'Total OT Paid': df2[(df2['Total OT Paid'] < 0)]['Total OT Paid'].count()\n",
    "# }, index=[0])\n",
    "\n",
    "pd.DataFrame({\n",
    "    'Metric': ['OT HOurs', 'Regular Gross Paid', 'Regular Hours', 'Base Salary', 'Total OT Paid', 'Total Other Pay'],\n",
    "    'Count': [df2[(df2['OT Hours'] < 0)]['OT Hours'].count(),\n",
    "              df2[(df2['Regular Gross Paid'] < 0)]['Regular Gross Paid'].count(),\n",
    "              df2[(df2['Regular Hours'] < 0)]['Regular Hours'].count(),\n",
    "              df2[(df2['Base Salary'] < 0)]['Base Salary'].count(),\n",
    "              df2[(df2['Total OT Paid'] < 0)]['Total OT Paid'].count(),\n",
    "              df2[(df2['Total Other Pay'] < 0)]['Total Other Pay'].count()\n",
    "             ]\n",
    "})"
   ]
  },
  {
   "cell_type": "markdown",
   "id": "7208bd46",
   "metadata": {
    "hide_input": false
   },
   "source": [
    "A count of the negative values reveals that there are not enough to effect anything if we remove them.  Our dataset contains more than 3 million records.  We will only remove around 6000."
   ]
  },
  {
   "cell_type": "code",
   "execution_count": 13,
   "id": "d0f33ab3",
   "metadata": {},
   "outputs": [
    {
     "data": {
      "text/html": [
       "<div>\n",
       "<style scoped>\n",
       "    .dataframe tbody tr th:only-of-type {\n",
       "        vertical-align: middle;\n",
       "    }\n",
       "\n",
       "    .dataframe tbody tr th {\n",
       "        vertical-align: top;\n",
       "    }\n",
       "\n",
       "    .dataframe thead th {\n",
       "        text-align: right;\n",
       "    }\n",
       "</style>\n",
       "<table border=\"1\" class=\"dataframe\">\n",
       "  <thead>\n",
       "    <tr style=\"text-align: right;\">\n",
       "      <th></th>\n",
       "      <th>Fiscal Year</th>\n",
       "      <th>OT Hours</th>\n",
       "      <th>Regular Gross Paid</th>\n",
       "      <th>Regular Hours</th>\n",
       "      <th>Base Salary</th>\n",
       "      <th>Total OT Paid</th>\n",
       "      <th>Total Other Pay</th>\n",
       "    </tr>\n",
       "  </thead>\n",
       "  <tbody>\n",
       "    <tr>\n",
       "      <th>count</th>\n",
       "      <td>3387331.00</td>\n",
       "      <td>3387331.00</td>\n",
       "      <td>3387331.00</td>\n",
       "      <td>3387331.00</td>\n",
       "      <td>3387331.00</td>\n",
       "      <td>3387331.00</td>\n",
       "      <td>3387331.00</td>\n",
       "    </tr>\n",
       "    <tr>\n",
       "      <th>mean</th>\n",
       "      <td>2017.52</td>\n",
       "      <td>60.67</td>\n",
       "      <td>42268.29</td>\n",
       "      <td>662.58</td>\n",
       "      <td>43486.68</td>\n",
       "      <td>3288.05</td>\n",
       "      <td>2617.69</td>\n",
       "    </tr>\n",
       "    <tr>\n",
       "      <th>std</th>\n",
       "      <td>1.72</td>\n",
       "      <td>152.78</td>\n",
       "      <td>39695.58</td>\n",
       "      <td>883.32</td>\n",
       "      <td>42098.10</td>\n",
       "      <td>9017.95</td>\n",
       "      <td>5445.57</td>\n",
       "    </tr>\n",
       "    <tr>\n",
       "      <th>min</th>\n",
       "      <td>2014.00</td>\n",
       "      <td>0.00</td>\n",
       "      <td>0.00</td>\n",
       "      <td>0.00</td>\n",
       "      <td>0.01</td>\n",
       "      <td>0.00</td>\n",
       "      <td>0.00</td>\n",
       "    </tr>\n",
       "    <tr>\n",
       "      <th>25%</th>\n",
       "      <td>2016.00</td>\n",
       "      <td>0.00</td>\n",
       "      <td>3547.30</td>\n",
       "      <td>0.00</td>\n",
       "      <td>33.18</td>\n",
       "      <td>0.00</td>\n",
       "      <td>0.00</td>\n",
       "    </tr>\n",
       "    <tr>\n",
       "      <th>50%</th>\n",
       "      <td>2018.00</td>\n",
       "      <td>0.00</td>\n",
       "      <td>36123.88</td>\n",
       "      <td>0.00</td>\n",
       "      <td>41992.00</td>\n",
       "      <td>0.00</td>\n",
       "      <td>0.36</td>\n",
       "    </tr>\n",
       "    <tr>\n",
       "      <th>75%</th>\n",
       "      <td>2019.00</td>\n",
       "      <td>1.00</td>\n",
       "      <td>74365.21</td>\n",
       "      <td>1820.00</td>\n",
       "      <td>78026.00</td>\n",
       "      <td>158.00</td>\n",
       "      <td>2237.34</td>\n",
       "    </tr>\n",
       "    <tr>\n",
       "      <th>max</th>\n",
       "      <td>2020.00</td>\n",
       "      <td>3147.00</td>\n",
       "      <td>672308.86</td>\n",
       "      <td>4160.00</td>\n",
       "      <td>414707.00</td>\n",
       "      <td>237389.73</td>\n",
       "      <td>650000.00</td>\n",
       "    </tr>\n",
       "  </tbody>\n",
       "</table>\n",
       "</div>"
      ],
      "text/plain": [
       "      Fiscal Year    OT Hours Regular Gross Paid Regular Hours Base Salary  \\\n",
       "count  3387331.00  3387331.00         3387331.00    3387331.00  3387331.00   \n",
       "mean      2017.52       60.67           42268.29        662.58    43486.68   \n",
       "std          1.72      152.78           39695.58        883.32    42098.10   \n",
       "min       2014.00        0.00               0.00          0.00        0.01   \n",
       "25%       2016.00        0.00            3547.30          0.00       33.18   \n",
       "50%       2018.00        0.00           36123.88          0.00    41992.00   \n",
       "75%       2019.00        1.00           74365.21       1820.00    78026.00   \n",
       "max       2020.00     3147.00          672308.86       4160.00   414707.00   \n",
       "\n",
       "      Total OT Paid Total Other Pay  \n",
       "count    3387331.00      3387331.00  \n",
       "mean        3288.05         2617.69  \n",
       "std         9017.95         5445.57  \n",
       "min            0.00            0.00  \n",
       "25%            0.00            0.00  \n",
       "50%            0.00            0.36  \n",
       "75%          158.00         2237.34  \n",
       "max       237389.73       650000.00  "
      ]
     },
     "execution_count": 13,
     "metadata": {},
     "output_type": "execute_result"
    }
   ],
   "source": [
    "df2Gte0 = df2[\n",
    "    (df2['OT Hours'] >= 0) &\n",
    "    (df2['Regular Gross Paid'] >= 0) &\n",
    "    (df2['Regular Hours'] >= 0) &\n",
    "    (df2['Base Salary'] >= 0) &\n",
    "    (df2['Total OT Paid'] >= 0) &\n",
    "    (df2['Total Other Pay'] >= 0)\n",
    "]\n",
    "df2Gte0['Fiscal Year'].apply(str)\n",
    "df2Gte0.describe().apply(lambda s: s.apply('{0:.2f}'.format))"
   ]
  },
  {
   "cell_type": "markdown",
   "id": "c37747b6",
   "metadata": {},
   "source": [
    "After removing the negative values, it is interesting to see that the minimum values for Regler Gross Paid, Base Salary, and Regular Hours are zero.  It appears that there are people listed as employees who either voluneer, or don't show up for work. It is more likely that there are employees that were hired, did not show up for work and were terminated."
   ]
  },
  {
   "cell_type": "code",
   "execution_count": 14,
   "id": "d24bb9b0",
   "metadata": {},
   "outputs": [
    {
     "data": {
      "text/html": [
       "<div>\n",
       "<style scoped>\n",
       "    .dataframe tbody tr th:only-of-type {\n",
       "        vertical-align: middle;\n",
       "    }\n",
       "\n",
       "    .dataframe tbody tr th {\n",
       "        vertical-align: top;\n",
       "    }\n",
       "\n",
       "    .dataframe thead tr th {\n",
       "        text-align: left;\n",
       "    }\n",
       "\n",
       "    .dataframe thead tr:last-of-type th {\n",
       "        text-align: right;\n",
       "    }\n",
       "</style>\n",
       "<table border=\"1\" class=\"dataframe\">\n",
       "  <thead>\n",
       "    <tr>\n",
       "      <th></th>\n",
       "      <th colspan=\"8\" halign=\"left\">Base Salary</th>\n",
       "    </tr>\n",
       "    <tr>\n",
       "      <th></th>\n",
       "      <th>count</th>\n",
       "      <th>mean</th>\n",
       "      <th>std</th>\n",
       "      <th>min</th>\n",
       "      <th>25%</th>\n",
       "      <th>50%</th>\n",
       "      <th>75%</th>\n",
       "      <th>max</th>\n",
       "    </tr>\n",
       "    <tr>\n",
       "      <th>Pay Basis</th>\n",
       "      <th></th>\n",
       "      <th></th>\n",
       "      <th></th>\n",
       "      <th></th>\n",
       "      <th></th>\n",
       "      <th></th>\n",
       "      <th></th>\n",
       "      <th></th>\n",
       "    </tr>\n",
       "  </thead>\n",
       "  <tbody>\n",
       "    <tr>\n",
       "      <th>Prorated Annual</th>\n",
       "      <td>15573.00</td>\n",
       "      <td>32693.99</td>\n",
       "      <td>15475.38</td>\n",
       "      <td>2282.00</td>\n",
       "      <td>24168.00</td>\n",
       "      <td>31298.00</td>\n",
       "      <td>37413.00</td>\n",
       "      <td>165090.00</td>\n",
       "    </tr>\n",
       "    <tr>\n",
       "      <th>per Annum</th>\n",
       "      <td>2014002.00</td>\n",
       "      <td>72657.23</td>\n",
       "      <td>29136.16</td>\n",
       "      <td>1.00</td>\n",
       "      <td>47670.00</td>\n",
       "      <td>71764.00</td>\n",
       "      <td>90432.00</td>\n",
       "      <td>414707.00</td>\n",
       "    </tr>\n",
       "    <tr>\n",
       "      <th>per Day</th>\n",
       "      <td>753923.00</td>\n",
       "      <td>81.08</td>\n",
       "      <td>96.85</td>\n",
       "      <td>0.01</td>\n",
       "      <td>33.18</td>\n",
       "      <td>33.18</td>\n",
       "      <td>110.29</td>\n",
       "      <td>999.90</td>\n",
       "    </tr>\n",
       "    <tr>\n",
       "      <th>per Hour</th>\n",
       "      <td>603833.00</td>\n",
       "      <td>665.23</td>\n",
       "      <td>8776.45</td>\n",
       "      <td>0.50</td>\n",
       "      <td>1.00</td>\n",
       "      <td>13.37</td>\n",
       "      <td>15.97</td>\n",
       "      <td>160683.39</td>\n",
       "    </tr>\n",
       "  </tbody>\n",
       "</table>\n",
       "</div>"
      ],
      "text/plain": [
       "                Base Salary                                                   \\\n",
       "                      count      mean       std      min       25%       50%   \n",
       "Pay Basis                                                                      \n",
       "Prorated Annual    15573.00  32693.99  15475.38  2282.00  24168.00  31298.00   \n",
       "per Annum        2014002.00  72657.23  29136.16     1.00  47670.00  71764.00   \n",
       "per Day           753923.00     81.08     96.85     0.01     33.18     33.18   \n",
       "per Hour          603833.00    665.23   8776.45     0.50      1.00     13.37   \n",
       "\n",
       "                                      \n",
       "                      75%        max  \n",
       "Pay Basis                             \n",
       "Prorated Annual  37413.00  165090.00  \n",
       "per Annum        90432.00  414707.00  \n",
       "per Day            110.29     999.90  \n",
       "per Hour            15.97  160683.39  "
      ]
     },
     "execution_count": 14,
     "metadata": {},
     "output_type": "execute_result"
    }
   ],
   "source": [
    "df3 = df2Gte0\n",
    "df3BaseSalary = df3[['Base Salary', 'Pay Basis']]\n",
    "df3BaseSalary.groupby(['Pay Basis']).describe().apply(lambda s: s.apply('{0:.2f}'.format))"
   ]
  },
  {
   "cell_type": "markdown",
   "id": "f75b226f",
   "metadata": {},
   "source": [
    "The high variation in base salary will make it difficult for our model to perdict. As we look closer at base salary, we noticed that it includes all classes of Pay Basis.  That is why we are displaying it separately to show the statistics for the different classes of Pay Basis. Again, the minimum values of zero are interesting. Let's see how many employees (likely volunteers) are earning zero dollars."
   ]
  },
  {
   "cell_type": "markdown",
   "id": "d988001a",
   "metadata": {},
   "source": [
    "### Employees Earning Zero Dollars"
   ]
  },
  {
   "cell_type": "code",
   "execution_count": 15,
   "id": "99daaef7",
   "metadata": {
    "scrolled": true
   },
   "outputs": [
    {
     "data": {
      "text/html": [
       "<div>\n",
       "<style scoped>\n",
       "    .dataframe tbody tr th:only-of-type {\n",
       "        vertical-align: middle;\n",
       "    }\n",
       "\n",
       "    .dataframe tbody tr th {\n",
       "        vertical-align: top;\n",
       "    }\n",
       "\n",
       "    .dataframe thead th {\n",
       "        text-align: right;\n",
       "    }\n",
       "</style>\n",
       "<table border=\"1\" class=\"dataframe\">\n",
       "  <thead>\n",
       "    <tr style=\"text-align: right;\">\n",
       "      <th></th>\n",
       "      <th>Metric</th>\n",
       "      <th>Count</th>\n",
       "    </tr>\n",
       "  </thead>\n",
       "  <tbody>\n",
       "    <tr>\n",
       "      <th>0</th>\n",
       "      <td>Base Salary</td>\n",
       "      <td>3</td>\n",
       "    </tr>\n",
       "    <tr>\n",
       "      <th>1</th>\n",
       "      <td>Regular Gross Paid</td>\n",
       "      <td>63809</td>\n",
       "    </tr>\n",
       "    <tr>\n",
       "      <th>2</th>\n",
       "      <td>Regular Hours</td>\n",
       "      <td>1935881</td>\n",
       "    </tr>\n",
       "  </tbody>\n",
       "</table>\n",
       "</div>"
      ],
      "text/plain": [
       "               Metric    Count\n",
       "0         Base Salary        3\n",
       "1  Regular Gross Paid    63809\n",
       "2       Regular Hours  1935881"
      ]
     },
     "execution_count": 15,
     "metadata": {},
     "output_type": "execute_result"
    }
   ],
   "source": [
    "pd.DataFrame({\n",
    "    'Metric': ['Base Salary', 'Regular Gross Paid', 'Regular Hours'],\n",
    "    'Count': [df3[(df3['Base Salary'] < 1)]['First Name'].count(),\n",
    "              df3[(df3['Regular Gross Paid'] < 1)]['First Name'].count(),\n",
    "              df3[(df3['Regular Hours'] < 1)]['First Name'].count()\n",
    "             ]\n",
    "})\n"
   ]
  },
  {
   "cell_type": "markdown",
   "id": "0500e1d0",
   "metadata": {},
   "source": [
    "There are very few emplyees with a salary or gross pay of 0 compared to the entire data set.  The fact that we have a large number of employees with 0 hours worked is interesting. We will take a closer look at that."
   ]
  },
  {
   "cell_type": "markdown",
   "id": "6fac579e",
   "metadata": {},
   "source": [
    "### Count of Employees with Zero Hours Worked by Pay Basis"
   ]
  },
  {
   "cell_type": "code",
   "execution_count": 16,
   "id": "36f2384f",
   "metadata": {
    "hide_input": false,
    "scrolled": true
   },
   "outputs": [
    {
     "data": {
      "text/plain": [
       "Pay Basis\n",
       "Prorated Annual      1267\n",
       "per Annum          876330\n",
       "per Day            666166\n",
       "per Hour           392118\n",
       "Name: First Name, dtype: int64"
      ]
     },
     "execution_count": 16,
     "metadata": {},
     "output_type": "execute_result"
    }
   ],
   "source": [
    "df3[(df3['Regular Hours'] < 1)].groupby(['Pay Basis'])['First Name'].count()"
   ]
  },
  {
   "cell_type": "markdown",
   "id": "5c5e3aa0",
   "metadata": {},
   "source": [
    "This is the count of employees with zero hours broken down by Pay Basis.  Employees who are paid per day, and annually would have likely shown zero hours because they are not paid by the hour, thus hours worked would not be tracked.  The employees who get paid by the hour but show zero hours worked might throw off our model when we try to predict.  The model might put all these in the same category but taking Pay Basis into consideration should remedy this situation."
   ]
  },
  {
   "cell_type": "markdown",
   "id": "c9136f0a",
   "metadata": {},
   "source": [
    "### High Hourly Pay"
   ]
  },
  {
   "cell_type": "code",
   "execution_count": 17,
   "id": "f2ff9ab4",
   "metadata": {
    "scrolled": false
   },
   "outputs": [
    {
     "data": {
      "image/png": "[encoded data removed]",
      "text/plain": [
       "<Figure size 640x480 with 1 Axes>"
      ]
     },
     "metadata": {},
     "output_type": "display_data"
    }
   ],
   "source": [
    "df3[(df3['Pay Basis'] == 'per Hour')]['Base Salary'].hist()\n",
    "plt.show()"
   ]
  },
  {
   "cell_type": "markdown",
   "id": "5ce83a69",
   "metadata": {},
   "source": [
    "Clearly we have some outliers when we look at he combined histogram of all employees who are paid by the hour."
   ]
  },
  {
   "cell_type": "code",
   "execution_count": 18,
   "id": "7bfdf877",
   "metadata": {
    "scrolled": false
   },
   "outputs": [
    {
     "data": {
      "image/png": "[encoded data removed]",
      "text/plain": [
       "<Figure size 640x480 with 1 Axes>"
      ]
     },
     "metadata": {},
     "output_type": "display_data"
    }
   ],
   "source": [
    "df3[(df3['Pay Basis'] == 'per Hour') & (df3['Base Salary'] < 100)]['Base Salary'].hist()\n",
    "plt.show()"
   ]
  },
  {
   "cell_type": "markdown",
   "id": "bf22faea",
   "metadata": {},
   "source": [
    "This is a histogram of employees who make less than 100 dollars per hour, which is a more common scenario.  Salary data is usually right skewed, and here the result is what we expect to see."
   ]
  },
  {
   "cell_type": "code",
   "execution_count": 19,
   "id": "15589e56",
   "metadata": {
    "hide_input": false,
    "scrolled": false
   },
   "outputs": [
    {
     "data": {
      "image/png": "[encoded data removed]",
      "text/plain": [
       "<Figure size 640x480 with 1 Axes>"
      ]
     },
     "metadata": {},
     "output_type": "display_data"
    }
   ],
   "source": [
    "df3[(df3['Pay Basis'] == 'per Hour') & (df3['Base Salary'] > 500)]['Base Salary'].hist()\n",
    "plt.show()"
   ]
  },
  {
   "cell_type": "code",
   "execution_count": 20,
   "id": "e06148de",
   "metadata": {
    "scrolled": true
   },
   "outputs": [
    {
     "data": {
      "text/html": [
       "<div>\n",
       "<style scoped>\n",
       "    .dataframe tbody tr th:only-of-type {\n",
       "        vertical-align: middle;\n",
       "    }\n",
       "\n",
       "    .dataframe tbody tr th {\n",
       "        vertical-align: top;\n",
       "    }\n",
       "\n",
       "    .dataframe thead th {\n",
       "        text-align: right;\n",
       "    }\n",
       "</style>\n",
       "<table border=\"1\" class=\"dataframe\">\n",
       "  <thead>\n",
       "    <tr style=\"text-align: right;\">\n",
       "      <th></th>\n",
       "      <th>Base Salary</th>\n",
       "      <th>Regular Hours</th>\n",
       "    </tr>\n",
       "  </thead>\n",
       "  <tbody>\n",
       "    <tr>\n",
       "      <th>count</th>\n",
       "      <td>3417.000000</td>\n",
       "      <td>3417.0</td>\n",
       "    </tr>\n",
       "    <tr>\n",
       "      <th>mean</th>\n",
       "      <td>115089.705891</td>\n",
       "      <td>0.0</td>\n",
       "    </tr>\n",
       "    <tr>\n",
       "      <th>std</th>\n",
       "      <td>21076.331384</td>\n",
       "      <td>0.0</td>\n",
       "    </tr>\n",
       "    <tr>\n",
       "      <th>min</th>\n",
       "      <td>67440.900000</td>\n",
       "      <td>0.0</td>\n",
       "    </tr>\n",
       "    <tr>\n",
       "      <th>25%</th>\n",
       "      <td>101995.670000</td>\n",
       "      <td>0.0</td>\n",
       "    </tr>\n",
       "    <tr>\n",
       "      <th>50%</th>\n",
       "      <td>118559.800000</td>\n",
       "      <td>0.0</td>\n",
       "    </tr>\n",
       "    <tr>\n",
       "      <th>75%</th>\n",
       "      <td>133863.680000</td>\n",
       "      <td>0.0</td>\n",
       "    </tr>\n",
       "    <tr>\n",
       "      <th>max</th>\n",
       "      <td>160683.390000</td>\n",
       "      <td>0.0</td>\n",
       "    </tr>\n",
       "  </tbody>\n",
       "</table>\n",
       "</div>"
      ],
      "text/plain": [
       "         Base Salary  Regular Hours\n",
       "count    3417.000000         3417.0\n",
       "mean   115089.705891            0.0\n",
       "std     21076.331384            0.0\n",
       "min     67440.900000            0.0\n",
       "25%    101995.670000            0.0\n",
       "50%    118559.800000            0.0\n",
       "75%    133863.680000            0.0\n",
       "max    160683.390000            0.0"
      ]
     },
     "execution_count": 20,
     "metadata": {},
     "output_type": "execute_result"
    }
   ],
   "source": [
    "\n",
    "# df3[(df3['Pay Basis'] == 'per Hour') & (df3['Base Salary'] > 500)][['Base Salary', 'Regular Hours']].describe()"
   ]
  },
  {
   "cell_type": "markdown",
   "id": "e57ddbe5",
   "metadata": {},
   "source": [
    "What is interesting here is the extremely high hourly rate for the employees making more than 500 dollars per hour in the histogram. But notice in the table that all these employees have zero hours worked.  It could be that the Pay Basis for this subset should be in the 'per Annum' class. We might move this subset to that class and perform some calculations to convert the hourly rate to an annual rate and place that into a new column named AnnualSalary."
   ]
  },
  {
   "cell_type": "code",
   "execution_count": 21,
   "id": "e940a4ba",
   "metadata": {},
   "outputs": [
    {
     "data": {
      "text/plain": [
       "Pay Basis\n",
       "Prorated Annual      15573\n",
       "per Annum          2014002\n",
       "per Day             753923\n",
       "per Hour            603833\n",
       "Name: First Name, dtype: int64"
      ]
     },
     "execution_count": 21,
     "metadata": {},
     "output_type": "execute_result"
    }
   ],
   "source": [
    "df3.groupby(['Pay Basis'])['First Name'].count()"
   ]
  },
  {
   "cell_type": "code",
   "execution_count": 62,
   "id": "739f1b9d",
   "metadata": {
    "scrolled": true
   },
   "outputs": [],
   "source": [
    "df4 = df3\n",
    "# df3[df3['Pay Basis'] == 'per Hour'].describe().apply(lambda s: s.apply('{0:.2f}'.format))\n",
    "# df3[(df3['Fiscal Year'] < 2015) & (df3['Pay Basis'] == 'per Hour') & (df3['Base Salary'] < 5)]['Base Salary'].count()\n",
    "# df3[(df3['Fiscal Year'] < 2015)].count()\n",
    "# Here we convert per hour where the base salary looks like it should be an annual figure\n",
    "# df4['AnnualSalary'] = df4[((df4['Pay Basis'] == 'per Hour') &\n",
    "#                          (df4['Base Salary'] > 500) |\n",
    "#                          (df4['Base Salary'] > 20000))\n",
    "#                         ]['Base Salary']\n",
    "\n",
    "# Here we just convert per hour to an annual figure based on the number of hours worked.\n",
    "# df4['AnnualSalary'] = df4[(df4['Pay Basis'] == 'per Hour') &\n",
    "#                          (df4['Base Salary'] < 500)\n",
    "#                         ]['Base Salary'] * df4['Regular Hours']\n",
    "\n",
    "# Here we convert pay basis 'per Day' to Annual Salary\n",
    "# df4['AnnualSalary'] = (df4[(df4['Pay Basis'] == 'per Day')]['Base Salary'] / 8) * df4['Regular Hours']\n",
    "\n",
    "# df4['AnnualSalary'] = df4[(df4['Pay Basis'] == 'per Annum') | (df4['Pay Basis'] == 'Prorated Annual')]['Base Salary']"
   ]
  },
  {
   "cell_type": "code",
   "execution_count": 23,
   "id": "09e6c3ee",
   "metadata": {},
   "outputs": [],
   "source": [
    "# if ((df4['Pay Basis'] == 'per Hour') & (df4['Base Salary'] > 500)) | (df4['Base Salary'] > 20000):\n",
    "#     df4['Base Salary']"
   ]
  },
  {
   "cell_type": "code",
   "execution_count": 25,
   "id": "3cb07488",
   "metadata": {
    "scrolled": false
   },
   "outputs": [],
   "source": [
    "# df4[['Base Salary', 'Regular Hours', 'AnnualSalary']].describe()"
   ]
  },
  {
   "cell_type": "code",
   "execution_count": 46,
   "id": "53118432",
   "metadata": {},
   "outputs": [
    {
     "data": {
      "text/html": [
       "<div>\n",
       "<style scoped>\n",
       "    .dataframe tbody tr th:only-of-type {\n",
       "        vertical-align: middle;\n",
       "    }\n",
       "\n",
       "    .dataframe tbody tr th {\n",
       "        vertical-align: top;\n",
       "    }\n",
       "\n",
       "    .dataframe thead th {\n",
       "        text-align: right;\n",
       "    }\n",
       "</style>\n",
       "<table border=\"1\" class=\"dataframe\">\n",
       "  <thead>\n",
       "    <tr style=\"text-align: right;\">\n",
       "      <th></th>\n",
       "      <th>Fiscal Year</th>\n",
       "      <th>OT Hours</th>\n",
       "      <th>Regular Gross Paid</th>\n",
       "      <th>Regular Hours</th>\n",
       "      <th>Base Salary</th>\n",
       "      <th>Total OT Paid</th>\n",
       "      <th>Total Other Pay</th>\n",
       "    </tr>\n",
       "  </thead>\n",
       "  <tbody>\n",
       "    <tr>\n",
       "      <th>count</th>\n",
       "      <td>3387331.00</td>\n",
       "      <td>3387331.00</td>\n",
       "      <td>3387331.00</td>\n",
       "      <td>3387331.00</td>\n",
       "      <td>3387331.00</td>\n",
       "      <td>3387331.00</td>\n",
       "      <td>3387331.00</td>\n",
       "    </tr>\n",
       "    <tr>\n",
       "      <th>mean</th>\n",
       "      <td>2017.52</td>\n",
       "      <td>60.67</td>\n",
       "      <td>42268.29</td>\n",
       "      <td>662.58</td>\n",
       "      <td>43486.68</td>\n",
       "      <td>3288.05</td>\n",
       "      <td>2617.69</td>\n",
       "    </tr>\n",
       "    <tr>\n",
       "      <th>std</th>\n",
       "      <td>1.72</td>\n",
       "      <td>152.78</td>\n",
       "      <td>39695.58</td>\n",
       "      <td>883.32</td>\n",
       "      <td>42098.10</td>\n",
       "      <td>9017.95</td>\n",
       "      <td>5445.57</td>\n",
       "    </tr>\n",
       "    <tr>\n",
       "      <th>min</th>\n",
       "      <td>2014.00</td>\n",
       "      <td>0.00</td>\n",
       "      <td>0.00</td>\n",
       "      <td>0.00</td>\n",
       "      <td>0.01</td>\n",
       "      <td>0.00</td>\n",
       "      <td>0.00</td>\n",
       "    </tr>\n",
       "    <tr>\n",
       "      <th>25%</th>\n",
       "      <td>2016.00</td>\n",
       "      <td>0.00</td>\n",
       "      <td>3547.30</td>\n",
       "      <td>0.00</td>\n",
       "      <td>33.18</td>\n",
       "      <td>0.00</td>\n",
       "      <td>0.00</td>\n",
       "    </tr>\n",
       "    <tr>\n",
       "      <th>50%</th>\n",
       "      <td>2018.00</td>\n",
       "      <td>0.00</td>\n",
       "      <td>36123.88</td>\n",
       "      <td>0.00</td>\n",
       "      <td>41992.00</td>\n",
       "      <td>0.00</td>\n",
       "      <td>0.36</td>\n",
       "    </tr>\n",
       "    <tr>\n",
       "      <th>75%</th>\n",
       "      <td>2019.00</td>\n",
       "      <td>1.00</td>\n",
       "      <td>74365.21</td>\n",
       "      <td>1820.00</td>\n",
       "      <td>78026.00</td>\n",
       "      <td>158.00</td>\n",
       "      <td>2237.34</td>\n",
       "    </tr>\n",
       "    <tr>\n",
       "      <th>max</th>\n",
       "      <td>2020.00</td>\n",
       "      <td>3147.00</td>\n",
       "      <td>672308.86</td>\n",
       "      <td>4160.00</td>\n",
       "      <td>414707.00</td>\n",
       "      <td>237389.73</td>\n",
       "      <td>650000.00</td>\n",
       "    </tr>\n",
       "  </tbody>\n",
       "</table>\n",
       "</div>"
      ],
      "text/plain": [
       "      Fiscal Year    OT Hours Regular Gross Paid Regular Hours Base Salary  \\\n",
       "count  3387331.00  3387331.00         3387331.00    3387331.00  3387331.00   \n",
       "mean      2017.52       60.67           42268.29        662.58    43486.68   \n",
       "std          1.72      152.78           39695.58        883.32    42098.10   \n",
       "min       2014.00        0.00               0.00          0.00        0.01   \n",
       "25%       2016.00        0.00            3547.30          0.00       33.18   \n",
       "50%       2018.00        0.00           36123.88          0.00    41992.00   \n",
       "75%       2019.00        1.00           74365.21       1820.00    78026.00   \n",
       "max       2020.00     3147.00          672308.86       4160.00   414707.00   \n",
       "\n",
       "      Total OT Paid Total Other Pay  \n",
       "count    3387331.00      3387331.00  \n",
       "mean        3288.05         2617.69  \n",
       "std         9017.95         5445.57  \n",
       "min            0.00            0.00  \n",
       "25%            0.00            0.00  \n",
       "50%            0.00            0.36  \n",
       "75%          158.00         2237.34  \n",
       "max       237389.73       650000.00  "
      ]
     },
     "execution_count": 46,
     "metadata": {},
     "output_type": "execute_result"
    }
   ],
   "source": [
    "df4.describe().apply(lambda s: s.apply('{0:.2f}'.format))"
   ]
  },
  {
   "cell_type": "code",
   "execution_count": 27,
   "id": "a057cb7b",
   "metadata": {},
   "outputs": [],
   "source": [
    "# Top 10 median salary by pay basis\n",
    "# df3 = df2.groupby(by=['Agency Name']).median(['Regular Gross Paid'])\n",
    "# df3 = df3.sort_values(['Regular Gross Paid']).head(10)\n",
    "# # df3.head(10)\n",
    "# df3.plot(kind='barh', figsize=(20,50), color='g', fontsize=20)\n",
    "# plt.show()"
   ]
  },
  {
   "cell_type": "code",
   "execution_count": 28,
   "id": "9577f231",
   "metadata": {},
   "outputs": [],
   "source": [
    "#df3 = df2[df2['Pay Basis'] == 'per Hour', 'AnnualSalary'] = df2.['Base Salary'] * 2080\n",
    "# df3 = df2[df2['Pay Basis'] == 'per Hour', 'AnnualSalary'] = df2['Base Salary'] * 2080\n",
    "# df3 = dfSample\n",
    "# df3['AnnualSalary'] = df3['Pay Basis'].apply(lambda x: df3['Base Salary']*2080 if x == 'per Hour' else df3['Base Salary'])\n",
    "# df3.head()\n",
    "# df['new column name'] = df['column name'].apply(lambda x: 'value if condition is met' if x condition else 'value if condition is not met')"
   ]
  },
  {
   "cell_type": "code",
   "execution_count": 29,
   "id": "4c297518",
   "metadata": {
    "scrolled": true
   },
   "outputs": [],
   "source": [
    "# df3 = df2.groupby(by=['Pay Basis']).median(['Regular Gross Paid'])\n",
    "# df3['Regular Gross Paid']"
   ]
  },
  {
   "cell_type": "code",
   "execution_count": null,
   "id": "4e618336",
   "metadata": {},
   "outputs": [],
   "source": []
  },
  {
   "cell_type": "code",
   "execution_count": null,
   "id": "ae19ab37",
   "metadata": {},
   "outputs": [],
   "source": []
  },
  {
   "cell_type": "code",
   "execution_count": 30,
   "id": "c1abd07b",
   "metadata": {
    "scrolled": false
   },
   "outputs": [],
   "source": [
    "# df2[(df2['Agency Name']=='DOE CUSTODIAL PAYROL')].describe().apply(lambda s: s.apply('{0:.2f}'.format))"
   ]
  },
  {
   "cell_type": "markdown",
   "id": "67b89bee",
   "metadata": {
    "hide_input": true
   },
   "source": [
    "## Visualize Attributes"
   ]
  },
  {
   "cell_type": "markdown",
   "id": "460a4a43",
   "metadata": {},
   "source": [
    "### Top 10 Salaries by Abency and Pay Basis"
   ]
  },
  {
   "cell_type": "code",
   "execution_count": 33,
   "id": "5a862dcb",
   "metadata": {
    "scrolled": false
   },
   "outputs": [
    {
     "data": {
      "application/vnd.jupyter.widget-view+json": {
       "model_id": "f3e89df30f3e44f99932de02d6ec6f89",
       "version_major": 2,
       "version_minor": 0
      },
      "text/plain": [
       "interactive(children=(Dropdown(description='basis', options=('per Annum', 'per Day', 'per Hour', 'Prorated Ann…"
      ]
     },
     "metadata": {},
     "output_type": "display_data"
    }
   ],
   "source": [
    "# Pay Basis 'per Annum', 'per Day', 'per Hour', 'Prorated Annual'\n",
    "def topPaidAgency(basis):\n",
    "    dfBar = df3[df3['Pay Basis'] == basis]\n",
    "    dfBar = pd.DataFrame({'Agency': dfBar['Agency Name'],\n",
    "                        'Gross': dfBar['Regular Gross Paid'],\n",
    "                        'Base': dfBar['Base Salary']\n",
    "                       })\n",
    "    # df3 = df3.groupby(by=['Agency']).mean()['Base']\n",
    "    dfBar = dfBar.groupby(['Agency']).median()['Base']\n",
    "    dfBar.head(10).sort_values().plot(kind='barh', figsize=(5,5), color='g')\n",
    "    plt.show()\n",
    "\n",
    "wd.interactive(topPaidAgency, basis=['per Annum', 'per Day', 'per Hour', 'Prorated Annual'])"
   ]
  },
  {
   "cell_type": "markdown",
   "id": "7b43b42f",
   "metadata": {},
   "source": [
    "### Top 10 Salaries by Job Title and Pay Basis"
   ]
  },
  {
   "cell_type": "code",
   "execution_count": 34,
   "id": "51af89b3",
   "metadata": {
    "scrolled": false
   },
   "outputs": [
    {
     "data": {
      "application/vnd.jupyter.widget-view+json": {
       "model_id": "f31dfed6a34a4fa39245d8e8f94f802e",
       "version_major": 2,
       "version_minor": 0
      },
      "text/plain": [
       "interactive(children=(Dropdown(description='basis', options=('per Annum', 'per Day', 'per Hour', 'Prorated Ann…"
      ]
     },
     "metadata": {},
     "output_type": "display_data"
    }
   ],
   "source": [
    "# Pay Basis 'per Annum', 'per Day', 'per Hour', 'Prorated Annual'\n",
    "def topPaidTitle(basis):\n",
    "    dfBarTitle = df3[df3['Pay Basis'] == basis]\n",
    "    dfBarTitle = pd.DataFrame({'Title': dfBarTitle['Title Description'],\n",
    "                        'Gross': dfBarTitle['Regular Gross Paid'],\n",
    "                        'Base': dfBarTitle['Base Salary']\n",
    "                       })\n",
    "    # df3 = df3.groupby(by=['Agency']).mean()['Base']\n",
    "    dfBarTitle = dfBarTitle.groupby(['Title']).median()['Base']\n",
    "    dfBarTitle.head(10).sort_values().plot(kind='barh', figsize=(8,5), color='g')\n",
    "    plt.show()\n",
    "\n",
    "wd.interactive(topPaidTitle, basis=['per Annum', 'per Day', 'per Hour', 'Prorated Annual'])"
   ]
  },
  {
   "cell_type": "markdown",
   "id": "8a544856",
   "metadata": {},
   "source": [
    "### Change in Base Salary Over Time"
   ]
  },
  {
   "cell_type": "code",
   "execution_count": 86,
   "id": "0606e133",
   "metadata": {
    "hide_input": false
   },
   "outputs": [],
   "source": [
    "df5 = pd.DataFrame({\n",
    "    'Year': ['2015', '2016', '2017', '2018', '2019', '2020',\n",
    "             '2014', '2015', '2016', '2017', '2018', '2019', '2020',\n",
    "             '2014', '2015', '2016', '2017', '2018', '2019', '2020',\n",
    "             '2014', '2015', '2016', '2017', '2018', '2019', '2020'\n",
    "            ],\n",
    "    'MedianBase': [\n",
    "        df3[(df3['Fiscal Year'] > 2014) & (df3['Fiscal Year'] < 2016) & (df3['Pay Basis'] == 'per Hour')]['Base Salary'].median(),\n",
    "        df3[(df3['Fiscal Year'] > 2015) & (df3['Fiscal Year'] < 2017) & (df3['Pay Basis'] == 'per Hour')]['Base Salary'].median(),\n",
    "        df3[(df3['Fiscal Year'] > 2016) & (df3['Fiscal Year'] < 2018) & (df3['Pay Basis'] == 'per Hour')]['Base Salary'].median(),\n",
    "        df3[(df3['Fiscal Year'] > 2017) & (df3['Fiscal Year'] < 2019) & (df3['Pay Basis'] == 'per Hour')]['Base Salary'].median(),\n",
    "        df3[(df3['Fiscal Year'] > 2018) & (df3['Fiscal Year'] < 2020) & (df3['Pay Basis'] == 'per Hour')]['Base Salary'].median(),\n",
    "        df3[(df3['Fiscal Year'] > 2019) & (df3['Fiscal Year'] < 2021) & (df3['Pay Basis'] == 'per Hour')]['Base Salary'].median(),\n",
    "        df3[(df3['Fiscal Year'] < 2015) & (df3['Pay Basis'] == 'per Annum')]['Base Salary'].median(),\n",
    "        df3[(df3['Fiscal Year'] > 2014) & (df3['Fiscal Year'] < 2016) & (df3['Pay Basis'] == 'per Annum')]['Base Salary'].median(),\n",
    "        df3[(df3['Fiscal Year'] > 2015) & (df3['Fiscal Year'] < 2017) & (df3['Pay Basis'] == 'per Annum')]['Base Salary'].median(),\n",
    "        df3[(df3['Fiscal Year'] > 2016) & (df3['Fiscal Year'] < 2018) & (df3['Pay Basis'] == 'per Annum')]['Base Salary'].median(),\n",
    "        df3[(df3['Fiscal Year'] > 2017) & (df3['Fiscal Year'] < 2019) & (df3['Pay Basis'] == 'per Annum')]['Base Salary'].median(),\n",
    "        df3[(df3['Fiscal Year'] > 2018) & (df3['Fiscal Year'] < 2020) & (df3['Pay Basis'] == 'per Annum')]['Base Salary'].median(),\n",
    "        df3[(df3['Fiscal Year'] > 2019) & (df3['Fiscal Year'] < 2021) & (df3['Pay Basis'] == 'per Annum')]['Base Salary'].median(),\n",
    "        df3[(df3['Fiscal Year'] < 2015) & (df3['Pay Basis'] == 'per Day')]['Base Salary'].median(),\n",
    "        df3[(df3['Fiscal Year'] > 2014) & (df3['Fiscal Year'] < 2016) & (df3['Pay Basis'] == 'per Day')]['Base Salary'].median(),\n",
    "        df3[(df3['Fiscal Year'] > 2015) & (df3['Fiscal Year'] < 2017) & (df3['Pay Basis'] == 'per Day')]['Base Salary'].median(),\n",
    "        df3[(df3['Fiscal Year'] > 2016) & (df3['Fiscal Year'] < 2018) & (df3['Pay Basis'] == 'per Day')]['Base Salary'].median(),\n",
    "        df3[(df3['Fiscal Year'] > 2017) & (df3['Fiscal Year'] < 2019) & (df3['Pay Basis'] == 'per Day')]['Base Salary'].median(),\n",
    "        df3[(df3['Fiscal Year'] > 2018) & (df3['Fiscal Year'] < 2020) & (df3['Pay Basis'] == 'per Day')]['Base Salary'].median(),\n",
    "        df3[(df3['Fiscal Year'] > 2019) & (df3['Fiscal Year'] < 2021) & (df3['Pay Basis'] == 'per Day')]['Base Salary'].median(),\n",
    "        df3[(df3['Fiscal Year'] < 2015) & (df3['Pay Basis'] == 'Prorated Annual')]['Base Salary'].median(),\n",
    "        df3[(df3['Fiscal Year'] > 2014) & (df3['Fiscal Year'] < 2016) & (df3['Pay Basis'] == 'Prorated Annual')]['Base Salary'].median(),\n",
    "        df3[(df3['Fiscal Year'] > 2015) & (df3['Fiscal Year'] < 2017) & (df3['Pay Basis'] == 'Prorated Annual')]['Base Salary'].median(),\n",
    "        df3[(df3['Fiscal Year'] > 2016) & (df3['Fiscal Year'] < 2018) & (df3['Pay Basis'] == 'Prorated Annual')]['Base Salary'].median(),\n",
    "        df3[(df3['Fiscal Year'] > 2017) & (df3['Fiscal Year'] < 2019) & (df3['Pay Basis'] == 'Prorated Annual')]['Base Salary'].median(),\n",
    "        df3[(df3['Fiscal Year'] > 2018) & (df3['Fiscal Year'] < 2020) & (df3['Pay Basis'] == 'Prorated Annual')]['Base Salary'].median(),\n",
    "        df3[(df3['Fiscal Year'] > 2019) & (df3['Fiscal Year'] < 2021) & (df3['Pay Basis'] == 'Prorated Annual')]['Base Salary'].median()\n",
    "    ],\n",
    "    'Pay Basis': ['per Hour', 'per Hour', 'per Hour', 'per Hour', 'per Hour', 'per Hour',\n",
    "                  'per Annum', 'per Annum', 'per Annum', 'per Annum', 'per Annum', 'per Annum', 'per Annum',\n",
    "                  'per Day', 'per Day', 'per Day', 'per Day', 'per Day', 'per Day', 'per Day',\n",
    "                  'Prorated Annual', 'Prorated Annual', 'Prorated Annual', 'Prorated Annual', 'Prorated Annual', 'Prorated Annual', 'Prorated Annual'\n",
    "                 ]\n",
    "})"
   ]
  },
  {
   "cell_type": "code",
   "execution_count": 85,
   "id": "a0fbb9a6",
   "metadata": {
    "scrolled": false
   },
   "outputs": [
    {
     "data": {
      "application/vnd.jupyter.widget-view+json": {
       "model_id": "83070c19ed5447599d5930e320e1eedf",
       "version_major": 2,
       "version_minor": 0
      },
      "text/plain": [
       "interactive(children=(Dropdown(description='basis', options=('per Annum', 'per Day', 'per Hour', 'Prorated Ann…"
      ]
     },
     "metadata": {},
     "output_type": "display_data"
    }
   ],
   "source": [
    "def setBasis(basis):\n",
    "    chart2 = alt.Chart(df5[df5['Pay Basis'] == basis])\n",
    "    selection = alt.selection_multi(fields=['Pay Basis'], bind='legend')\n",
    "    data = chart2.mark_line().encode(\n",
    "        x='Year',\n",
    "        y=alt.Y('MedianBase', title='Base Salary'),\n",
    "        color='Pay Basis',\n",
    "        opacity=alt.condition(selection, alt.value(1), alt.value(0.2))\n",
    "    ).properties(\n",
    "        width=600,\n",
    "        height=600\n",
    "    ).configure_axis(\n",
    "        labelFontSize=20,\n",
    "        titleFontSize=20\n",
    "    ).configure_legend(\n",
    "        labelFontSize=20,\n",
    "        titleFontSize=20,\n",
    "        symbolSize=600,\n",
    "        symbolStrokeWidth=4\n",
    "    ).add_selection(\n",
    "        selection\n",
    "    )\n",
    "    data.display()\n",
    "wd.interactive(setBasis, basis=['per Annum', 'per Day', 'per Hour', 'Prorated Annual'])\n"
   ]
  },
  {
   "cell_type": "code",
   "execution_count": 82,
   "id": "e2841b8b",
   "metadata": {},
   "outputs": [
    {
     "data": {
      "text/plain": [
       "133"
      ]
     },
     "execution_count": 82,
     "metadata": {},
     "output_type": "execute_result"
    }
   ],
   "source": [
    "df3[(df3['Fiscal Year'] < 2015) & (df3['Pay Basis'] == 'per Hour') & (df3['Base Salary'] == 1)]['Base Salary'].count()\n",
    "# df3[(df3['Fiscal Year'] < 2015) & (df3['Pay Basis'] == 'per Hour')]['Base Salary'].count()"
   ]
  },
  {
   "cell_type": "code",
   "execution_count": null,
   "id": "2c0e899a",
   "metadata": {},
   "outputs": [],
   "source": []
  },
  {
   "cell_type": "markdown",
   "id": "c4c92c61",
   "metadata": {},
   "source": [
    "This set of line charts shows salaries increasing / decreasing over time based on Pay Basis. Select the pay basis from the dropdown to see the trend.\n",
    "\n",
    "Per Hour\n",
    "The number of observations for the 2014 fiscal year for the Per Hour pay basis is 168. Additionally, 133 of those observed show to have a pay rate of 1 dollar an hour. Therefore, 2014 is excluded from this visual for the pay basis of 'per Hour'. There is significant increase from 2015 to 2020."
   ]
  },
  {
   "cell_type": "markdown",
   "id": "a297e56d",
   "metadata": {},
   "source": [
    "### Employees with the Highest Hourly Pay"
   ]
  },
  {
   "cell_type": "code",
   "execution_count": 93,
   "id": "8f7c1320",
   "metadata": {
    "scrolled": false
   },
   "outputs": [
    {
     "data": {
      "image/png": "[encoded data removed]",
      "text/plain": [
       "<Figure size 640x480 with 1 Axes>"
      ]
     },
     "metadata": {},
     "output_type": "display_data"
    }
   ],
   "source": [
    "df3[(df3['Pay Basis'] == 'per Hour') & (df3['Base Salary'] > 400) & (df3['Base Salary'] < 500)]['Base Salary'].hist()\n",
    "plt.show()"
   ]
  },
  {
   "cell_type": "markdown",
   "id": "c5ce31e0",
   "metadata": {},
   "source": [
    "This is not a mistake. There are employees who earn between 400 and 500 per hour.  There are very few and they all work in the Civil Service Commision.  The implcations are that a classification model should easily identify the Agency Name but will have trouble with accurately identifying the title description.  For this entire data set, we should look at median salaries.  Any interpretations or conclusions based on the mean would be suspect."
   ]
  },
  {
   "cell_type": "code",
   "execution_count": 96,
   "id": "3ad3f17e",
   "metadata": {
    "scrolled": true
   },
   "outputs": [
    {
     "data": {
      "text/html": [
       "<div>\n",
       "<style scoped>\n",
       "    .dataframe tbody tr th:only-of-type {\n",
       "        vertical-align: middle;\n",
       "    }\n",
       "\n",
       "    .dataframe tbody tr th {\n",
       "        vertical-align: top;\n",
       "    }\n",
       "\n",
       "    .dataframe thead th {\n",
       "        text-align: right;\n",
       "    }\n",
       "</style>\n",
       "<table border=\"1\" class=\"dataframe\">\n",
       "  <thead>\n",
       "    <tr style=\"text-align: right;\">\n",
       "      <th></th>\n",
       "      <th>Agency Name</th>\n",
       "      <th>Title Description</th>\n",
       "      <th>Base Salary</th>\n",
       "    </tr>\n",
       "  </thead>\n",
       "  <tbody>\n",
       "    <tr>\n",
       "      <th>126778</th>\n",
       "      <td>CIVIL SERVICE COMMISSION</td>\n",
       "      <td>COMMISSIONER</td>\n",
       "      <td>455.70</td>\n",
       "    </tr>\n",
       "    <tr>\n",
       "      <th>126780</th>\n",
       "      <td>CIVIL SERVICE COMMISSION</td>\n",
       "      <td>CHAIRMAN</td>\n",
       "      <td>496.31</td>\n",
       "    </tr>\n",
       "    <tr>\n",
       "      <th>126782</th>\n",
       "      <td>CIVIL SERVICE COMMISSION</td>\n",
       "      <td>COMMISSIONER</td>\n",
       "      <td>455.70</td>\n",
       "    </tr>\n",
       "    <tr>\n",
       "      <th>126783</th>\n",
       "      <td>CIVIL SERVICE COMMISSION</td>\n",
       "      <td>COMMISSIONER</td>\n",
       "      <td>455.70</td>\n",
       "    </tr>\n",
       "    <tr>\n",
       "      <th>705918</th>\n",
       "      <td>CIVIL SERVICE COMMISSION</td>\n",
       "      <td>CHAIRMAN</td>\n",
       "      <td>448.55</td>\n",
       "    </tr>\n",
       "  </tbody>\n",
       "</table>\n",
       "</div>"
      ],
      "text/plain": [
       "                     Agency Name Title Description  Base Salary\n",
       "126778  CIVIL SERVICE COMMISSION      COMMISSIONER       455.70\n",
       "126780  CIVIL SERVICE COMMISSION          CHAIRMAN       496.31\n",
       "126782  CIVIL SERVICE COMMISSION      COMMISSIONER       455.70\n",
       "126783  CIVIL SERVICE COMMISSION      COMMISSIONER       455.70\n",
       "705918  CIVIL SERVICE COMMISSION          CHAIRMAN       448.55"
      ]
     },
     "execution_count": 96,
     "metadata": {},
     "output_type": "execute_result"
    }
   ],
   "source": [
    "df3[(df3['Pay Basis'] == 'per Hour') & (df3['Base Salary'] > 400) & (df3['Base Salary'] < 500)][['Agency Name', 'Title Description', 'Base Salary']].head()"
   ]
  },
  {
   "cell_type": "markdown",
   "id": "80690a7e",
   "metadata": {},
   "source": [
    "We included this table to show that the employees with the highest hourly pay are all from the same agency."
   ]
  },
  {
   "cell_type": "markdown",
   "id": "5ce6452c",
   "metadata": {},
   "source": [
    "## Explore Joint Attributes"
   ]
  },
  {
   "cell_type": "code",
   "execution_count": 104,
   "id": "25f014c6",
   "metadata": {
    "scrolled": false
   },
   "outputs": [
    {
     "data": {
      "application/vnd.jupyter.widget-view+json": {
       "model_id": "dc00cdb4a3bf48c69b2dac214a91f188",
       "version_major": 2,
       "version_minor": 0
      },
      "text/plain": [
       "interactive(children=(Dropdown(description='basis', options=('per Annum', 'per Day', 'per Hour', 'Prorated Ann…"
      ]
     },
     "metadata": {},
     "output_type": "display_data"
    }
   ],
   "source": [
    "def setBasisScatter(basis):\n",
    "    scatter_matrix(df3[df3['Pay Basis'] == basis].sample(30000), figsize=(15, 10))\n",
    "    plt.show()\n",
    "wd.interactive(setBasisScatter, basis=['per Annum', 'per Day', 'per Hour', 'Prorated Annual'])"
   ]
  },
  {
   "cell_type": "markdown",
   "id": "042ccb5d",
   "metadata": {},
   "source": [
    "We ran a scatter matrix on a random sample of 30000 observations from the data set to reduce processing time.  Select the Pay Basis from the dropdown to see the scatter matrix associated with pay basis being discussed.\n",
    "\n",
    "#### Per Annum (Annual)\n",
    "Over Time Hours is strongly corelated with Total Overtime Paid, with a positive correlation. But there is a weak correlation between OT Hours and "
   ]
  },
  {
   "cell_type": "code",
   "execution_count": 103,
   "id": "eaef654d",
   "metadata": {},
   "outputs": [
    {
     "data": {
      "image/png": "[encoded data removed]",
      "text/plain": [
       "<Figure size 640x480 with 3 Axes>"
      ]
     },
     "metadata": {},
     "output_type": "display_data"
    }
   ],
   "source": [
    "sns.heatmap(df3.sample(30000).corr());\n",
    "plt.show()"
   ]
  },
  {
   "cell_type": "markdown",
   "id": "b70ee2c4",
   "metadata": {},
   "source": [
    "## Explore Joint Attributes and Class"
   ]
  },
  {
   "cell_type": "markdown",
   "id": "d88a66d7",
   "metadata": {},
   "source": [
    "## New Features"
   ]
  },
  {
   "cell_type": "markdown",
   "id": "aa28a287",
   "metadata": {
    "hide_input": false
   },
   "source": [
    "## Exceptional Work"
   ]
  },
  {
   "cell_type": "code",
   "execution_count": null,
   "id": "3565f6f6",
   "metadata": {
    "hide_input": false
   },
   "outputs": [],
   "source": []
  },
  {
   "cell_type": "code",
   "execution_count": null,
   "id": "9b442e2d",
   "metadata": {},
   "outputs": [],
   "source": []
  }
 ],
 "metadata": {
  "kernelspec": {
   "display_name": "Python 3",
   "language": "python",
   "name": "python3"
  },
  "language_info": {
   "codemirror_mode": {
    "name": "ipython",
    "version": 3
   },
   "file_extension": ".py",
   "mimetype": "text/x-python",
   "name": "python",
   "nbconvert_exporter": "python",
   "pygments_lexer": "ipython3",
   "version": "3.8.11"
  }
 },
 "nbformat": 4,
 "nbformat_minor": 5
}
